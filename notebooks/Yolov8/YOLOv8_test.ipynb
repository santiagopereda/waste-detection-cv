{
 "cells": [
  {
   "cell_type": "code",
   "execution_count": 1,
   "id": "b72ea001-0527-481a-9f9c-59f19b003730",
   "metadata": {},
   "outputs": [],
   "source": [
    "from ultralytics import YOLO"
   ]
  },
  {
   "cell_type": "code",
   "execution_count": 2,
   "id": "73503cac-7f87-4181-b6f1-ccd75b2d2458",
   "metadata": {},
   "outputs": [
    {
     "name": "stderr",
     "output_type": "stream",
     "text": [
      "Downloading https://github.com/ultralytics/assets/releases/download/v0.0.0/yolov8n.pt to 'yolov8n.pt'...\n",
      "100%|██████████████████████████████████████████████████████████████████████████████| 6.23M/6.23M [00:01<00:00, 3.47MB/s]\n"
     ]
    }
   ],
   "source": [
    "# Loading model\n",
    "model = YOLO('yolov8n.pt')"
   ]
  },
  {
   "cell_type": "code",
   "execution_count": 3,
   "id": "6c022880-77d9-4083-8a33-b3ec6fac2330",
   "metadata": {},
   "outputs": [],
   "source": [
    "!touch data.yaml"
   ]
  },
  {
   "cell_type": "code",
   "execution_count": null,
   "id": "4b6d7dea-d1a6-4521-a3a5-821b7bff6440",
   "metadata": {},
   "outputs": [],
   "source": []
  }
 ],
 "metadata": {
  "kernelspec": {
   "display_name": "Python 3 (ipykernel)",
   "language": "python",
   "name": "python3"
  },
  "language_info": {
   "codemirror_mode": {
    "name": "ipython",
    "version": 3
   },
   "file_extension": ".py",
   "mimetype": "text/x-python",
   "name": "python",
   "nbconvert_exporter": "python",
   "pygments_lexer": "ipython3",
   "version": "3.10.6"
  }
 },
 "nbformat": 4,
 "nbformat_minor": 5
}
